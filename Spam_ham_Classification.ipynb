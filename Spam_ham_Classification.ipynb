{
  "nbformat": 4,
  "nbformat_minor": 0,
  "metadata": {
    "colab": {
      "provenance": [],
      "authorship_tag": "ABX9TyN4mh4AbiA+eMvQnzipp2I2",
      "include_colab_link": true
    },
    "kernelspec": {
      "name": "python3",
      "display_name": "Python 3"
    },
    "language_info": {
      "name": "python"
    }
  },
  "cells": [
    {
      "cell_type": "markdown",
      "metadata": {
        "id": "view-in-github",
        "colab_type": "text"
      },
      "source": [
        "<a href=\"https://colab.research.google.com/github/xuxiufeng/Spam_ham_Classification/blob/main/Spam_ham_Classification.ipynb\" target=\"_parent\"><img src=\"https://colab.research.google.com/assets/colab-badge.svg\" alt=\"Open In Colab\"/></a>"
      ]
    },
    {
      "cell_type": "code",
      "source": [
        "!unzip enron1_test.zip\n",
        "!unzip enron1_train.zip\n",
        "!unzip enron4_test.zip\n",
        "!unzip enron4_train.zip\n",
        "!unzip hw1_test.zip\n",
        "!unzip hw1_train.zip"
      ],
      "metadata": {
        "id": "hOo__4fMYABH"
      },
      "execution_count": null,
      "outputs": []
    },
    {
      "cell_type": "code",
      "source": [
        "import sys\n",
        "import math\n",
        "import collections\n",
        "import os"
      ],
      "metadata": {
        "id": "jfB3pmvem_w6"
      },
      "execution_count": 1,
      "outputs": []
    },
    {
      "cell_type": "code",
      "source": [
        "stop_words = [\"a\",\"about\",\"above\",\"after\",\"again\",\"against\",\"all\",\"am\",\"an\",\"and\",\n",
        "\"any\",\"are\",\"aren't\",\"as\",\"at\",\"be\",\"because\",\"been\",\"before\",\"being\",\"below\",\n",
        "\"between\",\"both\",\"but\",\"by\",\"can't\",\"cannot\",\"could\",\"couldn't\",\"did\",\"didn't\",\n",
        "\"do\",\"does\",\"doesn't\",\"doing\",\"don't\",\"down\",\"during\",\"each\",\"few\",\"for\",\"from\",\n",
        "\"further\",\"had\",\"hadn't\",\"has\",\"hasn't\",\"have\",\"haven't\",\"having\",\"he\",\"he'd\",\n",
        "\"he'll\",\"he's\",\"her\",\"here\",\"here's\",\"hers\",\"herself\",\"him\",\"himself\",\"his\",\"how\",\n",
        "\"how's\",\"i\",\"i'd\",\"i'll\",\"i'm\",\"i've\",\"if\",\"in\",\"into\",\"is\",\"isn't\",\"it\",\"it's\",\"its\",\n",
        "\"itself\",\"let's\",\"me\",\"more\",\"most\",\"mustn't\",\"my\",\"myself\",\"no\",\"nor\",\"not\",\"of\",\n",
        "\"off\",\"on\",\"once\",\"only\",\"or\",\"other\",\"ought\",\"our\",\"ours\",\"ourselves\",\"out\",\"over\",\n",
        "\"own\",\"same\",\"shan't\",\"she\",\"she'd\",\"she'll\",\"she's\",\"should\",\"shouldn't\",\"so\",\"some\",\n",
        "\"such\",\"than\",\"that\",\"that's\",\"the\",\"their\",\"theirs\",\"them\",\"themselves\",\"then\",\"there\",\n",
        "\"there's\",\"these\",\"they\",\"they'd\",\"they'll\",\"they're\",\"they've\",\"this\",\"those\",\"through\",\n",
        "\"to\",\"too\",\"under\",\"until\",\"up\",\"very\",\"was\",\"wasn't\",\"we\",\"we'd\",\"we'll\",\"we're\",\"we've\",\n",
        "\"were\",\"weren't\",\"what\",\"what's\",\"when\",\"when's\",\"where\",\"where's\",\"which\",\"while\",\"who\",\n",
        "\"who's\",\"whom\",\"why\",\"why's\",\"with\",\"won't\",\"would\",\"wouldn't\",\"you\",\"you'd\",\"you'll\",\n",
        "\"you're\",\"you've\",\"your\",\"yours\",\"yourself\",\"yourselves\"]\n",
        "\n",
        "def ReadFile(file,filepath):\n",
        "    fileHandler = codecs.open(filepath+\"\\\\\" + file,'rU','latin-1')\n",
        "    Findwords = re.findall('[A-Za-z0-9\\']+', fileHandler.read())\n",
        "    allwords = list()\n",
        "    for word in Findwords:\n",
        "        word = word.lower()\n",
        "        allwords+=[word]\n",
        "    fileHandler.close()    \n",
        "    return allwords\n",
        "    \n",
        "def GetWordListsAndNumberOffiles(filepath):\n",
        "    wordList = list()\n",
        "    NumberOfFiles = 0\n",
        "    for files in os.listdir(filepath):\n",
        "        if files.endswith(\".txt\"):\n",
        "            wordList += ReadFile(files,filepath)\n",
        "            NumberOfFiles+=1\n",
        "    return wordList, NumberOfFiles\n",
        "\n",
        "def initiliazeMatrix(row, column):\n",
        "    featureMatrix = [0] * row\n",
        "    for i in range(row):\n",
        "        featureMatrix[i] = [0] * column\n",
        "    return featureMatrix"
      ],
      "metadata": {
        "id": "2SpA3gtZ8twZ"
      },
      "execution_count": 2,
      "outputs": []
    },
    {
      "cell_type": "code",
      "source": [
        "#location of the folder for ham & spam for train and test\n",
        "\n",
        "HamFolderPath = train_path + '/ham'\n",
        "SpamFolderPath = train_path + '/spam'\n",
        "    "
      ],
      "metadata": {
        "id": "zCYkwPEG6s7y"
      },
      "execution_count": null,
      "outputs": []
    },
    {
      "cell_type": "code",
      "source": [
        "#Find out all the words in ham folder and spam folder and find there counts  \n",
        "NumberOfHam, NumberOfSpam = 0, 0\n",
        "WordListInham = []\n",
        "WordListInspam = []\n",
        "WordListInham,NumberOfHam = GetWordListsAndNumberOffiles(HamFolderPath)\n",
        "WordListInspam,NumberOfSpam = GetWordListsAndNumberOffiles(SpamFolderPath)"
      ],
      "metadata": {
        "id": "lsIZOV1fVLdo"
      },
      "execution_count": null,
      "outputs": []
    }
  ]
}