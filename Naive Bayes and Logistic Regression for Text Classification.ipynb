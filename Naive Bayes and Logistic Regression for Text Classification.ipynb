{
  "nbformat": 4,
  "nbformat_minor": 0,
  "metadata": {
    "colab": {
      "provenance": [],
      "authorship_tag": "ABX9TyMbVnSmi7Q3taI3+zJ8cbFW",
      "include_colab_link": true
    },
    "kernelspec": {
      "name": "python3",
      "display_name": "Python 3"
    },
    "language_info": {
      "name": "python"
    }
  },
  "cells": [
    {
      "cell_type": "markdown",
      "metadata": {
        "id": "view-in-github",
        "colab_type": "text"
      },
      "source": [
        "<a href=\"https://colab.research.google.com/github/xuxiufeng/Spam_ham_Classification/blob/main/Naive%20Bayes%20and%20Logistic%20Regression%20for%20Text%20Classification.ipynb\" target=\"_parent\"><img src=\"https://colab.research.google.com/assets/colab-badge.svg\" alt=\"Open In Colab\"/></a>"
      ]
    },
    {
      "cell_type": "code",
      "source": [
        "%%capture\n",
        "#!unzip enron1_test.zip\n",
        "!unzip enron1_train.zip"
      ],
      "metadata": {
        "id": "lfIqbafV9oKF"
      },
      "execution_count": 4,
      "outputs": []
    },
    {
      "cell_type": "code",
      "source": [
        "stop_words = ['i', 'me', 'my', 'myself', 'we', 'our', 'ours', 'ourselves', 'you', \n",
        "              \"you're\", \"you've\",\"you'll\", \"you'd\", 'your', 'yours', 'yourself', \n",
        "              'yourselves', 'he', 'him', 'his','himself', 'she', \"she's\", 'her', \n",
        "              'hers', 'herself', 'it', \"it's\", 'its', 'itself','they', 'them', \n",
        "              'their', 'theirs', 'themselves', 'what', 'which', 'who', 'whom',\n",
        "              'this', 'that', \"that'll\", 'these', 'those', 'am', 'is', 'are', \n",
        "              'was', 'were', 'be','been', 'being', 'have', 'has', 'had', 'having', \n",
        "              'do', 'does', 'did', 'doing', 'a','an', 'the', 'and', 'but', 'if', \n",
        "              'or', 'because', 'as', 'until', 'while', 'of', 'at','by', 'for', \n",
        "              'with', 'about', 'against', 'between', 'into', 'through', 'during',\n",
        "              'before', 'after', 'above', 'below', 'to', 'from', 'up', 'down', 'in', \n",
        "              'out', 'on','off', 'over', 'under', 'again', 'further', 'then', 'once', \n",
        "              'here', 'there', 'when','where', 'why', 'how', 'all', 'any', 'both', \n",
        "              'each', 'few', 'more', 'most', 'other','some', 'such', 'no', 'nor', 'not', \n",
        "              'only', 'own', 'same', 'so', 'than', 'too', 'very','s', 't', 'can', 'will', \n",
        "              'just', 'don', \"don't\", 'should', \"should've\", 'now', 'd','ll', 'm', 'o', 're', \n",
        "              've', 'y', 'ain', 'aren', \"aren't\", 'couldn', \"couldn't\", 'didn', \"didn't\", \n",
        "              'doesn', \"doesn't\", 'hadn', \"hadn't\", 'hasn', \"hasn't\", 'haven', \"haven't\",\n",
        "              'isn', \"isn't\", 'ma', 'mightn', \"mightn't\", 'mustn', \"mustn't\", 'needn', \"needn't\",\n",
        "              'shan', \"shan't\", 'shouldn', \"shouldn't\", 'wasn', \"wasn't\", 'weren', \"weren't\", 'won',\n",
        "              \"won't\", 'wouldn', \"wouldn't\"]"
      ],
      "metadata": {
        "id": "iKNCrQbReRFU"
      },
      "execution_count": 129,
      "outputs": []
    },
    {
      "cell_type": "code",
      "source": [
        "import copy\n",
        "import glob\n",
        "import os\n",
        "import re\n",
        "from collections import Counter\n",
        "import codecs"
      ],
      "metadata": {
        "id": "Q8ZJ_vkYci1k"
      },
      "execution_count": null,
      "outputs": []
    },
    {
      "cell_type": "code",
      "source": [
        "def import_train_data(path, train_data_type):\n",
        "    \"\"\"\n",
        "    This function takes the dataset name and returns the files for the spam and ham text files for the train data\n",
        "    :param train_data_type: In this if it is true then we have train data else test data\n",
        "    :param data_set_name: This is the dataset name\n",
        "    :return: We return two lists in which consists of the spam and ham for given dataset\n",
        "    \"\"\"\n",
        "    files_ham = []\n",
        "    files_spam = []\n",
        "    total_data = \"\"\n",
        "    if train_data_type == True:\n",
        "        path = path + '/train'\n",
        "    else:\n",
        "        path = path + '/test'\n",
        "    path_ham = path + '/ham/'\n",
        "    path_spam = path + '/spam/'\n",
        "    files_list_spam = os.listdir(path_spam)\n",
        "    files_list_ham = os.listdir(path_ham)\n",
        "    for spam_files in files_list_spam:\n",
        "      path_all_spam = path_spam + spam_files\n",
        "      files_spam.append(open(path_all_spam, \"r\", errors = 'ignore').read())\n",
        "      total_data = total_data + \" \" + open(path_all_spam, \"r\", errors = 'ignore').read()\n",
        "    for ham_files in files_list_ham:\n",
        "      path_all_ham = path_ham + ham_files\n",
        "      files_ham.append(open(path_all_ham, \"r\", errors = 'ignore').read())\n",
        "      total_data = total_data + \" \" + open(path_all_ham, \"r\", errors = 'ignore').read()\n",
        "    # we find the size of the dataset and the number of instances with spam and number of instances with ham\n",
        "    size_of_total_dataset = len(files_list_ham) + len(files_list_spam)\n",
        "    size_of_ham_dataset = len(files_list_ham)\n",
        "    size_of_spam_dataset = len(files_list_spam)\n",
        "    return files_spam, files_ham, total_data, size_of_total_dataset, size_of_spam_dataset, size_of_ham_dataset"
      ],
      "metadata": {
        "id": "xgbWpg_cQdOY"
      },
      "execution_count": 119,
      "outputs": []
    },
    {
      "cell_type": "code",
      "source": [
        "import_train_data('/content/enron1', True)"
      ],
      "metadata": {
        "id": "2N-OSRsGbOqQ"
      },
      "execution_count": null,
      "outputs": []
    },
    {
      "cell_type": "code",
      "execution_count": 130,
      "metadata": {
        "id": "UGpTiB3u9kmF"
      },
      "outputs": [],
      "source": [
        "def convert_to_bag_of_words(dataset_name, train_data_type):\n",
        "    \"\"\"\n",
        "    This function returns the bag of words for given dataset\n",
        "    :param dataset_name: This is the dataset name\n",
        "    :param train_data_type: In this if it is true then we have train data else test data\n",
        "    :return: We return the bag for words representation for spam and ham files\n",
        "    \"\"\"\n",
        "    spam_file, ham_file, total_data, size_of_total_dataset, size_of_spam_dataset, size_of_ham_dataset = import_train_data(\n",
        "        dataset_name, train_data_type)\n",
        "    total_file_dictionary = {}\n",
        "    total_file_data = re.findall(\"[a-zA-Z]+\", total_data)\n",
        "    text_in_all_document = {}\n",
        "    # at first we find all the words in the given dataset and find the frequencies in the whole dataset\n",
        "    for each_word in total_file_data:\n",
        "        each_word = each_word.lower()\n",
        "        if each_word in total_file_dictionary:\n",
        "            continue\n",
        "        else:\n",
        "            # I got the list of stem words from the nltk library\n",
        "            if each_word not in stop_words:\n",
        "                total_file_dictionary[each_word] = 0\n",
        "        if each_word in text_in_all_document:\n",
        "            if each_word not in stop_words:\n",
        "                text_in_all_document[each_word] = text_in_all_document[each_word] + 1\n",
        "        else:\n",
        "            if each_word not in stop_words:\n",
        "                text_in_all_document[each_word] = 1\n",
        "    # In the following steps we find the words in the spam dataset and create the bag of words\n",
        "    spam_email_bag_of_words = []\n",
        "    spam_mail_in_all_documents = {}\n",
        "    # The frequencies of each words are stored in the case of bag of words.\n",
        "    for each_spam_mail in spam_file:\n",
        "        temp_dict = copy.deepcopy(total_file_dictionary)\n",
        "        each_spam_mail1 = re.findall(\"[a-zA-Z]+\", each_spam_mail)\n",
        "        # Here we create the bag of words for each document and append it in a list\n",
        "        for each_word in each_spam_mail1:\n",
        "            each_word = each_word.lower()\n",
        "            if each_word in temp_dict:\n",
        "                temp_dict[each_word] = temp_dict[each_word] + 1\n",
        "        # Here we store all the words in the spam dataset\n",
        "        spam_mail_in_all_documents = Counter(spam_mail_in_all_documents) + Counter(temp_dict)\n",
        "        spam_email_bag_of_words.append(temp_dict)\n",
        "    # In the following steps we find all the ham words and add them in the bag of words\n",
        "    ham_mail_in_all_documents = {}\n",
        "    ham_email_bag_of_words = []\n",
        "    for each_ham_mail in ham_file:\n",
        "        # Here we create the bag of words for each document and append it in a list\n",
        "        temp_dict = copy.deepcopy(total_file_dictionary)\n",
        "        each_ham_mail1 = re.findall(\"[a-zA-Z]+\", each_ham_mail)\n",
        "        for each_word in each_ham_mail1:\n",
        "            each_word = each_word.lower()\n",
        "            if each_word in temp_dict:\n",
        "                temp_dict[each_word] = temp_dict[each_word] + 1\n",
        "        # Here we store all the words in the ham dataset\n",
        "        ham_mail_in_all_documents = Counter(ham_mail_in_all_documents) + Counter(temp_dict)\n",
        "        ham_email_bag_of_words.append(temp_dict)\n",
        "    return spam_email_bag_of_words, ham_email_bag_of_words, text_in_all_document, spam_mail_in_all_documents, ham_mail_in_all_documents, size_of_total_dataset, size_of_spam_dataset, size_of_ham_dataset, total_file_dictionary"
      ]
    },
    {
      "cell_type": "code",
      "source": [
        "spam_email_bag_of_words, ham_email_bag_of_words, text_in_all_document, spam_mail_in_all_documents, ham_mail_in_all_documents, size_of_total_dataset, size_of_spam_dataset, size_of_ham_dataset, total_file_dictionary = convert_to_bag_of_words('/content/enron1', True)"
      ],
      "metadata": {
        "id": "W6me6TpLboUQ"
      },
      "execution_count": 131,
      "outputs": []
    },
    {
      "cell_type": "code",
      "source": [
        "spam_email_bag_of_words"
      ],
      "metadata": {
        "id": "XaNmz1tLfJJx"
      },
      "execution_count": null,
      "outputs": []
    }
  ]
}